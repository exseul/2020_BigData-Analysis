{
 "cells": [
  {
   "cell_type": "code",
   "execution_count": 1,
   "metadata": {},
   "outputs": [],
   "source": [
    "import findspark"
   ]
  },
  {
   "cell_type": "code",
   "execution_count": 2,
   "metadata": {},
   "outputs": [],
   "source": [
    "findspark.init('/home/ubuntu/spark-2.4.5-bin-hadoop2.7')"
   ]
  },
  {
   "cell_type": "code",
   "execution_count": 3,
   "metadata": {},
   "outputs": [],
   "source": [
    "from pyspark.sql import SparkSession"
   ]
  },
  {
   "cell_type": "code",
   "execution_count": 4,
   "metadata": {},
   "outputs": [],
   "source": [
    "spark = SparkSession.builder.appName('Samsung').getOrCreate()"
   ]
  },
  {
   "cell_type": "code",
   "execution_count": 5,
   "metadata": {},
   "outputs": [],
   "source": [
    "df = spark.read.csv('Samsung_SSUN.F.csv',inferSchema=True, header=True)"
   ]
  },
  {
   "cell_type": "code",
   "execution_count": 6,
   "metadata": {},
   "outputs": [
    {
     "data": {
      "text/plain": [
       "['Date', 'Open', 'High', 'Low', 'Close', 'Adj Close', 'Volume']"
      ]
     },
     "execution_count": 6,
     "metadata": {},
     "output_type": "execute_result"
    }
   ],
   "source": [
    "df.columns"
   ]
  },
  {
   "cell_type": "code",
   "execution_count": 7,
   "metadata": {},
   "outputs": [
    {
     "name": "stdout",
     "output_type": "stream",
     "text": [
      "root\n",
      " |-- Date: timestamp (nullable = true)\n",
      " |-- Open: double (nullable = true)\n",
      " |-- High: double (nullable = true)\n",
      " |-- Low: double (nullable = true)\n",
      " |-- Close: double (nullable = true)\n",
      " |-- Adj Close: double (nullable = true)\n",
      " |-- Volume: integer (nullable = true)\n",
      "\n"
     ]
    }
   ],
   "source": [
    "df.printSchema()"
   ]
  },
  {
   "cell_type": "code",
   "execution_count": 8,
   "metadata": {},
   "outputs": [
    {
     "name": "stdout",
     "output_type": "stream",
     "text": [
      "Row(Date=datetime.datetime(2015, 3, 2, 0, 0), Open=430.403015, High=434.071991, Low=430.403015, Close=431.451996, Adj Close=369.496979, Volume=972)\n",
      "Row(Date=datetime.datetime(2015, 3, 3, 0, 0), Open=442.002014, High=444.670013, Low=441.200012, Close=441.200012, Adj Close=377.845184, Volume=585)\n",
      "Row(Date=datetime.datetime(2015, 3, 4, 0, 0), Open=444.727997, High=450.062012, Low=444.727997, Close=450.062012, Adj Close=385.43457, Volume=596)\n",
      "Row(Date=datetime.datetime(2015, 3, 5, 0, 0), Open=444.401001, High=448.024994, Low=444.401001, Close=444.434998, Adj Close=380.615631, Volume=509)\n",
      "Row(Date=datetime.datetime(2015, 3, 6, 0, 0), Open=450.980011, High=458.460999, Low=450.980011, Close=455.0, Adj Close=389.663513, Volume=895)\n"
     ]
    }
   ],
   "source": [
    "for row in df.head(5):\n",
    "    print(row)"
   ]
  },
  {
   "cell_type": "code",
   "execution_count": 9,
   "metadata": {},
   "outputs": [
    {
     "name": "stdout",
     "output_type": "stream",
     "text": [
      "+-------+------------------+-----------------+------------------+------------------+------------------+-----------------+\n",
      "|summary|              Open|             High|               Low|             Close|         Adj Close|           Volume|\n",
      "+-------+------------------+-----------------+------------------+------------------+------------------+-----------------+\n",
      "|  count|              1268|             1268|              1268|              1268|              1268|             1268|\n",
      "|   mean|  626.833718040221|630.9788122507887| 621.9069379408515| 626.4052489179816| 578.2232215828078|531.9566246056783|\n",
      "| stddev|164.57297843236915|165.9979473445254|163.10247039214485|164.68402703310642|172.31907072676466|553.1427142820753|\n",
      "|    min|             306.0|       307.298004|        287.869995|        303.471985|        260.169067|                0|\n",
      "|    max|            1028.0|           1028.0|            1016.0|            1020.0|            1020.0|             4750|\n",
      "+-------+------------------+-----------------+------------------+------------------+------------------+-----------------+\n",
      "\n"
     ]
    }
   ],
   "source": [
    "df.describe().show()"
   ]
  },
  {
   "cell_type": "code",
   "execution_count": 10,
   "metadata": {},
   "outputs": [
    {
     "name": "stdout",
     "output_type": "stream",
     "text": [
      "root\n",
      " |-- summary: string (nullable = true)\n",
      " |-- Open: string (nullable = true)\n",
      " |-- High: string (nullable = true)\n",
      " |-- Low: string (nullable = true)\n",
      " |-- Close: string (nullable = true)\n",
      " |-- Adj Close: string (nullable = true)\n",
      " |-- Volume: string (nullable = true)\n",
      "\n"
     ]
    }
   ],
   "source": [
    "df.describe().printSchema()"
   ]
  },
  {
   "cell_type": "code",
   "execution_count": 11,
   "metadata": {},
   "outputs": [],
   "source": [
    "from pyspark.sql.functions import format_number"
   ]
  },
  {
   "cell_type": "code",
   "execution_count": 12,
   "metadata": {},
   "outputs": [],
   "source": [
    "result = df.describe()"
   ]
  },
  {
   "cell_type": "code",
   "execution_count": 13,
   "metadata": {},
   "outputs": [
    {
     "name": "stdout",
     "output_type": "stream",
     "text": [
      "+-------+--------+--------+--------+--------+------+\n",
      "|summary|    Open|    High|     Low|   Close|Volume|\n",
      "+-------+--------+--------+--------+--------+------+\n",
      "|  count|1,268.00|1,268.00|1,268.00|1,268.00|  1268|\n",
      "|   mean|  626.83|  630.98|  621.91|  626.41|   531|\n",
      "| stddev|  164.57|  166.00|  163.10|  164.68|   553|\n",
      "|    min|  306.00|  307.30|  287.87|  303.47|     0|\n",
      "|    max|1,028.00|1,028.00|1,016.00|1,020.00|  4750|\n",
      "+-------+--------+--------+--------+--------+------+\n",
      "\n"
     ]
    }
   ],
   "source": [
    "result.select(result['summary'],\n",
    "              format_number(result['Open'].cast('float'),2).alias('Open'),\n",
    "              format_number(result['High'].cast('float'),2).alias('High'),\n",
    "              format_number(result['Low'].cast('float'),2).alias('Low'),\n",
    "              format_number(result['Close'].cast('float'),2).alias('Close'),\n",
    "              result['Volume'].cast('int').alias('Volume')).show()"
   ]
  },
  {
   "cell_type": "code",
   "execution_count": 14,
   "metadata": {},
   "outputs": [
    {
     "name": "stdout",
     "output_type": "stream",
     "text": [
      "root\n",
      " |-- summary: string (nullable = true)\n",
      " |-- summary: string (nullable = true)\n",
      " |-- Open: string (nullable = true)\n",
      " |-- High: string (nullable = true)\n",
      " |-- Low: string (nullable = true)\n",
      " |-- Close: string (nullable = true)\n",
      " |-- Adj Close: string (nullable = true)\n",
      " |-- Volume: string (nullable = true)\n",
      "\n"
     ]
    }
   ],
   "source": [
    "result.describe().printSchema()"
   ]
  },
  {
   "cell_type": "code",
   "execution_count": 15,
   "metadata": {},
   "outputs": [],
   "source": [
    "df2 = df.withColumn(\"HV ration\", df['High']/df['Volume'])"
   ]
  },
  {
   "cell_type": "code",
   "execution_count": 16,
   "metadata": {},
   "outputs": [
    {
     "name": "stdout",
     "output_type": "stream",
     "text": [
      "+-------------------+\n",
      "|          HV ration|\n",
      "+-------------------+\n",
      "|0.44657612242798356|\n",
      "| 0.7601196803418803|\n",
      "| 0.7551376040268456|\n",
      "| 0.8802062750491159|\n",
      "| 0.5122469262569832|\n",
      "| 0.8286532664233577|\n",
      "| 1.0884684587378641|\n",
      "| 1.0163216958424508|\n",
      "| 2.0297835714285712|\n",
      "| 1.3572457457142857|\n",
      "| 0.6704531150568181|\n",
      "| 0.9057692307692308|\n",
      "| 0.7785107562189054|\n",
      "| 0.7526677406807132|\n",
      "| 1.8743647581967213|\n",
      "| 0.6748938097345133|\n",
      "| 0.4951086956521739|\n",
      "| 0.8356934142335767|\n",
      "|                0.3|\n",
      "|  2.085745351851852|\n",
      "+-------------------+\n",
      "only showing top 20 rows\n",
      "\n"
     ]
    }
   ],
   "source": [
    "df2.select('HV ration').show()"
   ]
  },
  {
   "cell_type": "code",
   "execution_count": 17,
   "metadata": {},
   "outputs": [
    {
     "data": {
      "text/plain": [
       "[Row(Date=datetime.datetime(2015, 3, 2, 0, 0), Open=430.403015, High=434.071991, Low=430.403015, Close=431.451996, Adj Close=369.496979, Volume=972),\n",
       " Row(Date=datetime.datetime(2015, 3, 3, 0, 0), Open=442.002014, High=444.670013, Low=441.200012, Close=441.200012, Adj Close=377.845184, Volume=585),\n",
       " Row(Date=datetime.datetime(2015, 3, 4, 0, 0), Open=444.727997, High=450.062012, Low=444.727997, Close=450.062012, Adj Close=385.43457, Volume=596),\n",
       " Row(Date=datetime.datetime(2015, 3, 5, 0, 0), Open=444.401001, High=448.024994, Low=444.401001, Close=444.434998, Adj Close=380.615631, Volume=509),\n",
       " Row(Date=datetime.datetime(2015, 3, 6, 0, 0), Open=450.980011, High=458.460999, Low=450.980011, Close=455.0, Adj Close=389.663513, Volume=895),\n",
       " Row(Date=datetime.datetime(2015, 3, 9, 0, 0), Open=450.001007, High=454.10199, Low=447.299988, Close=450.121002, Adj Close=385.485138, Volume=548),\n",
       " Row(Date=datetime.datetime(2015, 3, 10, 0, 0), Open=447.324005, High=448.449005, Low=443.001007, Close=446.806, Adj Close=382.646149, Volume=412),\n",
       " Row(Date=datetime.datetime(2015, 3, 11, 0, 0), Open=457.656006, High=464.459015, Low=457.64801, Close=464.459015, Adj Close=397.764221, Volume=457),\n",
       " Row(Date=datetime.datetime(2015, 3, 12, 0, 0), Open=467.264008, High=468.880005, Low=463.498993, Close=468.880005, Adj Close=401.550385, Volume=231),\n",
       " Row(Date=datetime.datetime(2015, 3, 13, 0, 0), Open=475.036011, High=475.036011, Low=468.003998, Close=471.084991, Adj Close=403.438751, Volume=350),\n",
       " Row(Date=datetime.datetime(2015, 3, 16, 0, 0), Open=471.549011, High=471.998993, Low=464.691986, Close=465.154999, Adj Close=398.360291, Volume=704)]"
      ]
     },
     "execution_count": 17,
     "metadata": {},
     "output_type": "execute_result"
    }
   ],
   "source": [
    "df.head(11)"
   ]
  },
  {
   "cell_type": "code",
   "execution_count": 18,
   "metadata": {},
   "outputs": [
    {
     "data": {
      "text/plain": [
       "[Row(Date=datetime.datetime(2020, 2, 17, 0, 0), Open=1028.0, High=1028.0, Low=1014.0, Close=1018.0, Adj Close=1018.0, Volume=308)]"
      ]
     },
     "execution_count": 18,
     "metadata": {},
     "output_type": "execute_result"
    }
   ],
   "source": [
    "df.orderBy(df['High'].desc()).head(1)"
   ]
  },
  {
   "cell_type": "code",
   "execution_count": 19,
   "metadata": {},
   "outputs": [
    {
     "data": {
      "text/plain": [
       "datetime.datetime(2020, 2, 17, 0, 0)"
      ]
     },
     "execution_count": 19,
     "metadata": {},
     "output_type": "execute_result"
    }
   ],
   "source": [
    "df.orderBy(df['High'].desc()).head(1)[0][0]"
   ]
  },
  {
   "cell_type": "code",
   "execution_count": 20,
   "metadata": {},
   "outputs": [],
   "source": [
    "from pyspark.sql.functions import mean"
   ]
  },
  {
   "cell_type": "code",
   "execution_count": 21,
   "metadata": {},
   "outputs": [
    {
     "name": "stdout",
     "output_type": "stream",
     "text": [
      "+-----------------+\n",
      "|       avg(Close)|\n",
      "+-----------------+\n",
      "|626.4052489179816|\n",
      "+-----------------+\n",
      "\n"
     ]
    }
   ],
   "source": [
    "df.select(mean('Close')).show()"
   ]
  },
  {
   "cell_type": "code",
   "execution_count": 22,
   "metadata": {},
   "outputs": [],
   "source": [
    "from pyspark.sql.functions import max,min"
   ]
  },
  {
   "cell_type": "code",
   "execution_count": 23,
   "metadata": {},
   "outputs": [
    {
     "name": "stdout",
     "output_type": "stream",
     "text": [
      "+-----------+-----------+\n",
      "|max(Volume)|min(Volume)|\n",
      "+-----------+-----------+\n",
      "|       4750|          0|\n",
      "+-----------+-----------+\n",
      "\n"
     ]
    }
   ],
   "source": [
    "df.select(max('Volume'),min('Volume')).show()"
   ]
  },
  {
   "cell_type": "code",
   "execution_count": 24,
   "metadata": {},
   "outputs": [
    {
     "data": {
      "text/plain": [
       "376"
      ]
     },
     "execution_count": 24,
     "metadata": {},
     "output_type": "execute_result"
    }
   ],
   "source": [
    "df.filter(\"Close < 500\").count()"
   ]
  },
  {
   "cell_type": "code",
   "execution_count": 25,
   "metadata": {},
   "outputs": [
    {
     "data": {
      "text/plain": [
       "376"
      ]
     },
     "execution_count": 25,
     "metadata": {},
     "output_type": "execute_result"
    }
   ],
   "source": [
    "df.filter(df['Close']<500).count()"
   ]
  },
  {
   "cell_type": "code",
   "execution_count": 26,
   "metadata": {},
   "outputs": [],
   "source": [
    "from pyspark.sql.functions import count"
   ]
  },
  {
   "cell_type": "code",
   "execution_count": 27,
   "metadata": {},
   "outputs": [],
   "source": [
    "result = df.filter(df['Close']<500)"
   ]
  },
  {
   "cell_type": "code",
   "execution_count": 28,
   "metadata": {},
   "outputs": [
    {
     "name": "stdout",
     "output_type": "stream",
     "text": [
      "+------------+\n",
      "|count(Close)|\n",
      "+------------+\n",
      "|         376|\n",
      "+------------+\n",
      "\n"
     ]
    }
   ],
   "source": [
    "result.select(count('Close')).show()"
   ]
  },
  {
   "cell_type": "code",
   "execution_count": 29,
   "metadata": {},
   "outputs": [
    {
     "data": {
      "text/plain": [
       "70.89905362776025"
      ]
     },
     "execution_count": 29,
     "metadata": {},
     "output_type": "execute_result"
    }
   ],
   "source": [
    "(df.filter(df['High']>500).count()*1.0/df.count())*100"
   ]
  },
  {
   "cell_type": "code",
   "execution_count": 30,
   "metadata": {},
   "outputs": [],
   "source": [
    "from pyspark.sql.functions import corr"
   ]
  },
  {
   "cell_type": "code",
   "execution_count": 31,
   "metadata": {},
   "outputs": [
    {
     "name": "stdout",
     "output_type": "stream",
     "text": [
      "+-------------------+\n",
      "| corr(High, Volume)|\n",
      "+-------------------+\n",
      "|0.10137876606310263|\n",
      "+-------------------+\n",
      "\n"
     ]
    }
   ],
   "source": [
    "df.select(corr('High','Volume')).show()"
   ]
  },
  {
   "cell_type": "code",
   "execution_count": 32,
   "metadata": {},
   "outputs": [],
   "source": [
    "from pyspark.sql.functions import year"
   ]
  },
  {
   "cell_type": "code",
   "execution_count": 33,
   "metadata": {},
   "outputs": [],
   "source": [
    "yeardf = df.withColumn('Year',year(df['Date']))"
   ]
  },
  {
   "cell_type": "code",
   "execution_count": 34,
   "metadata": {},
   "outputs": [],
   "source": [
    "max_df = yeardf.groupBy('Year').max()"
   ]
  },
  {
   "cell_type": "code",
   "execution_count": 35,
   "metadata": {},
   "outputs": [
    {
     "name": "stdout",
     "output_type": "stream",
     "text": [
      "+----+----------+----------+\n",
      "|Year|  max(Low)| max(High)|\n",
      "+----+----------+----------+\n",
      "|2018|     825.0|     848.0|\n",
      "|2015|495.100006|499.899994|\n",
      "|2019|     888.0|     894.0|\n",
      "|2020|    1016.0|    1028.0|\n",
      "|2016|575.000977|579.356018|\n",
      "|2017|     890.0|     987.0|\n",
      "+----+----------+----------+\n",
      "\n"
     ]
    }
   ],
   "source": [
    "max_df.select('Year','max(Low)','max(High)').show()"
   ]
  },
  {
   "cell_type": "code",
   "execution_count": 36,
   "metadata": {},
   "outputs": [],
   "source": [
    "from pyspark.sql.functions import month"
   ]
  },
  {
   "cell_type": "code",
   "execution_count": 37,
   "metadata": {},
   "outputs": [],
   "source": [
    "monthdf = df.withColumn('Month',month('Date'))"
   ]
  },
  {
   "cell_type": "code",
   "execution_count": 38,
   "metadata": {},
   "outputs": [],
   "source": [
    "monthavga = monthdf.select('Month','Open','Close').groupBy('Month').mean()"
   ]
  },
  {
   "cell_type": "code",
   "execution_count": 39,
   "metadata": {},
   "outputs": [
    {
     "name": "stdout",
     "output_type": "stream",
     "text": [
      "+-----+-----------------+-----------------+\n",
      "|Month|        avg(Open)|       avg(Close)|\n",
      "+-----+-----------------+-----------------+\n",
      "|    1|678.8277130092591|678.6112164814816|\n",
      "|    2|681.8094853564359|680.8845250792081|\n",
      "|    3|594.8133805092592|594.2579729814817|\n",
      "|    4|606.3922738383839| 605.423030030303|\n",
      "|    5|604.2577951121494| 603.731999457944|\n",
      "|    6|599.8140474339623|598.9598305188678|\n",
      "|    7|605.9957000818183|606.9227910454547|\n",
      "|    8| 597.704955232143|596.9848569910715|\n",
      "|    9|607.6713208490567| 607.265982528302|\n",
      "|   10| 634.734324101852|634.6637120925925|\n",
      "|   11|668.9955277592593|668.1095657314816|\n",
      "|   12|645.4945698210526|645.5071687578948|\n",
      "+-----+-----------------+-----------------+\n",
      "\n"
     ]
    }
   ],
   "source": [
    "monthavga.select('Month','avg(Open)','avg(Close)').orderBy('Month').show()"
   ]
  },
  {
   "cell_type": "code",
   "execution_count": null,
   "metadata": {},
   "outputs": [],
   "source": []
  }
 ],
 "metadata": {
  "kernelspec": {
   "display_name": "Python 3",
   "language": "python",
   "name": "python3"
  },
  "language_info": {
   "codemirror_mode": {
    "name": "ipython",
    "version": 3
   },
   "file_extension": ".py",
   "mimetype": "text/x-python",
   "name": "python",
   "nbconvert_exporter": "python",
   "pygments_lexer": "ipython3",
   "version": "3.7.6"
  }
 },
 "nbformat": 4,
 "nbformat_minor": 4
}
